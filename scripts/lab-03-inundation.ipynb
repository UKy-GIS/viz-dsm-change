{
 "cells": [
  {
   "cell_type": "markdown",
   "metadata": {},
   "source": [
    "# Inundation Visualization with Relative Elevation Models (REM)\n",
    "\n",
    "![Inundation of Troublesome Creek](https://nyc3.digitaloceanspaces.com/astoria/geo509/lab-03/lab-03-work.jpg)   \n",
    "*Inundation of Troublesome Creek*\n"
   ]
  },
  {
   "cell_type": "code",
   "execution_count": 1,
   "metadata": {},
   "outputs": [],
   "source": [
    "############### Imports :: DO NOT EDIT ###############\n",
    "\n",
    "# Import ArcGIS package\n",
    "import arcpy\n",
    "# Subprocess allows us to issue commands on the command line\n",
    "import subprocess\n",
    "# Get current local time\n",
    "import datetime"
   ]
  },
  {
   "cell_type": "code",
   "execution_count": 2,
   "metadata": {},
   "outputs": [],
   "source": [
    "######### MODIFY THIS CELL: change to variables to match your local environment ######### \n",
    "\n",
    "# Where is your root GIS folder?\n",
    "r = 'c:\\\\BoydsGIS'\n",
    "\n",
    "# What is your project's folder name?\n",
    "p = 'inundation_'\n",
    "\n",
    "# What is your stream flowline layer name?\n",
    "b = 'NHDFlowline_tc'"
   ]
  },
  {
   "cell_type": "code",
   "execution_count": 3,
   "metadata": {},
   "outputs": [],
   "source": [
    "############### Global variables and functions :: DO NOT EDIT ###############\n",
    "\n",
    "# Set up our environment\n",
    "arcpy.env.workspace = f'{r}\\\\{p}\\\\{p}.gdb'\n",
    "db = f'{r}\\\\{p}\\\\{p}.gdb'\n",
    "ky = arcpy.SpatialReference(3089)\n",
    "arcpy.env.outputCoordinateSystem = ky\n",
    "arcpy.env.overwriteOutput = True\n",
    "dsm = 'https://kyraster.ky.gov/arcgis/rest/services/ElevationServices/Ky_DSM_First_Return_5FT_Phase1/ImageServer'\n",
    "dem = 'https://kyraster.ky.gov/arcgis/rest/services/ElevationServices/Ky_DEM_KYAPED_5FT/ImageServer'\n",
    "img = 'https://kyraster.ky.gov/arcgis/rest/services/ImageServices/Ky_KYAPED_Phase1_6IN/ImageServer'\n",
    "\n",
    "\n",
    "def listContents(root, folder):\n",
    "    \"\"\"List contents of  a directory. 'root' parameter is GIS space and 'folder' is any inside GIS space\"\"\"\n",
    "    downloads = f'{root}\\\\{folder}'\n",
    "    completed = subprocess.run(f'dir {downloads}', shell=True, stdout=subprocess.PIPE)\n",
    "    print(completed.stdout.decode('UTF-8'))\n",
    "    print(f'Feature classes in geodatabase {arcpy.ListFeatureClasses()}')\n",
    "    print(\"Finished processing\", datetime.datetime.now())\n",
    "\n",
    "def selectRiver(name):\n",
    "    \"\"\"Select Kentucky river by 'name' as a string. No need to enter 'River' or 'North', e.g. \"\"\"\n",
    "    where = f'\"GNIS_Name\" like \\'%{name}%\\''\n",
    "    print(f'Using {where} to match all stream names that include {name}...')\n",
    "    arcpy.Select_analysis(b, \"candidate\", where)\n",
    "    print('Edit the section of the stream that you want to create the REM. \\nThen select that section using the Select tool.')\n",
    "    print(\"Finished processing\", datetime.datetime.now())\n",
    "    \n",
    "def processRiver(distance, buffer):\n",
    "    \"\"\"Create vector analysis layers. 'distance' in feet between sample points, 'buffer' distance in feet \"\"\"\n",
    "    arcpy.env.addOutputsToMap = False\n",
    "    select = input(\"Do you have a selection to process? Yes or No \")\n",
    "    if 'y' in select.lower():\n",
    "        print(f'AOI will be {buffer} feet from flowline. Placing points every {distance} feet along flowline...')\n",
    "        arcpy.env.extent = \"MAXOF\"\n",
    "        arcpy.management.UnsplitLine(\"candidate\", \"candidate_unsplit\")\n",
    "        arcpy.analysis.Buffer('candidate_unsplit', 'river_buffer', buffer)\n",
    "        arcpy.management.GeneratePointsAlongLines('candidate_unsplit', 'river_pts', \"DISTANCE\", distance)\n",
    "    else:\n",
    "        print(\"Select a portion of a river\")\n",
    "    arcpy.env.addOutputsToMap = True\n",
    "    print(\"Finished processing\", datetime.datetime.now())\n",
    "        \n",
    "def processREM(buffer):\n",
    "    \"\"\"Create REM using IDW interpolation from river sample points. 'buffer' distance in feet \"\"\"\n",
    "    arcpy.env.addOutputsToMap = False\n",
    "    print('Clipping DEM to AOI...')\n",
    "    arcpy.management.Clip(dem, \"#\", 'dem', 'river_buffer', '#', True)\n",
    "    print(f'Sampling ground elevation along flowline...')\n",
    "    arcpy.sa.ExtractValuesToPoints('river_pts', 'dem', 'river_pts_elev')\n",
    "    arcpy.env.extent = \"river_buffer\"\n",
    "    print(f'Interpolating stream height...')\n",
    "    arcpy.ddd.Idw(\"river_pts_elev\", \"RASTERVALU\", \"idw\", 5, 2, f\"FIXED {buffer}\", None)\n",
    "    idw = arcpy.sa.Raster('idw')\n",
    "    dem_o = arcpy.sa.Raster('dem')\n",
    "    print(f'Calculating REM on ground surface...')\n",
    "    out = (dem_o - idw)\n",
    "    out.save(f'rem')\n",
    "    dsm_o = arcpy.sa.Raster(dsm)\n",
    "    print(f'Calculating REM on above ground surface...')\n",
    "    out = (dsm_o - idw)\n",
    "    out.save(f'rem_dsm')\n",
    "    arcpy.env.addOutputsToMap = True\n",
    "    print(\"Finished processing\", datetime.datetime.now())\n",
    "\n",
    "def processInundation(height):\n",
    "    \"\"\"Create inundation models using REMs. 'height' is elevation above stream in feet \"\"\"\n",
    "    arcpy.env.addOutputsToMap = False\n",
    "    print(f'Calculating extent of innudation to {height} feet above stream level for ground...')\n",
    "    rem = arcpy.sa.Raster(f'{db}\\\\rem')\n",
    "    a = arcpy.sa.Con(rem <= 0, 0, rem)\n",
    "    b = arcpy.sa.Con(a <= height, a)\n",
    "    c = arcpy.sa.Abs(b - height)\n",
    "    c.save(f'inun_dem_{height}ft')\n",
    "    print(f'Calculating extent of innudation to {height} feet above stream level for above ground features...')\n",
    "    rem_dsm = arcpy.sa.Raster(f'{db}\\\\rem_dsm')\n",
    "    d = arcpy.sa.Con(rem_dsm <= 0, 0, rem_dsm)\n",
    "    e = arcpy.sa.Con(d <= height, d, height)\n",
    "    f = arcpy.sa.Abs(e - height)\n",
    "    g = f + rem_dsm\n",
    "    g.save(f'inun_surface_{height}ft')\n",
    "    arcpy.ddd.HillShade(g, f'inun_hillshade_{height}ft')\n",
    "    ee = arcpy.sa.Con(d <= height, d)\n",
    "    ff = arcpy.sa.Abs(ee - height)\n",
    "    ff.save(f'inun_dsm_{height}ft')\n",
    "    arcpy.env.addOutputsToMap = True\n",
    "    print(\"Finished processing\", datetime.datetime.now())\n"
   ]
  },
  {
   "cell_type": "code",
   "execution_count": 4,
   "metadata": {},
   "outputs": [
    {
     "name": "stdout",
     "output_type": "stream",
     "text": [
      " Volume in drive C has no label.\n",
      " Volume Serial Number is 0AA6-9A6D\n",
      "\n",
      " Directory of c:\\BoydsGIS\\inundation_\n",
      "\n",
      "10/19/2022  01:28 PM    <DIR>          .\n",
      "10/19/2022  01:28 PM    <DIR>          ..\n",
      "10/19/2022  01:28 PM    <DIR>          .backups\n",
      "10/12/2022  11:07 AM    <DIR>          .ipynb_checkpoints\n",
      "10/14/2022  12:01 AM    <DIR>          GpMessages\n",
      "10/14/2022  12:39 AM    <DIR>          ImportLog\n",
      "10/12/2022  12:02 PM    <DIR>          Index\n",
      "10/14/2022  01:01 AM           158,530 inundation_.aprx\n",
      "10/12/2022  11:01 AM               403 inundation_.atbx\n",
      "10/19/2022  01:52 PM    <DIR>          inundation_.gdb\n",
      "10/19/2022  01:28 PM            16,688 lab-03-inundation.ipynb\n",
      "10/12/2022  02:54 PM    <DIR>          RasterFunctionTemplates\n",
      "10/14/2022  12:39 AM            27,439 Scene2.pdf\n",
      "               4 File(s)        203,060 bytes\n",
      "               9 Dir(s)  67,406,311,424 bytes free\n",
      "\n",
      "Feature classes in geodatabase ['NHDFlowline_tc', 'candidate', 'candidate_unsplit', 'river_buffer', 'river_pts', 'river_pts_elev', 'candidate_1']\n",
      "Finished processing 2022-10-19 13:52:08.687124\n"
     ]
    }
   ],
   "source": [
    "# Let's see what you have in your project folder and geodatabase\n",
    "listContents(r, p)"
   ]
  },
  {
   "cell_type": "code",
   "execution_count": 11,
   "metadata": {},
   "outputs": [
    {
     "name": "stdout",
     "output_type": "stream",
     "text": [
      "Using \"GNIS_Name\" like '%Troublesome%' to match all stream names that include Troublesome...\n",
      "Edit the section of the stream that you want to create the REM. \n",
      "Then select that section using the Select tool.\n",
      "Finished processing 2022-10-13 13:04:45.577540\n"
     ]
    }
   ],
   "source": [
    "######### MODIFY THIS CELL: What stream do you want to analyze? ######### \n",
    "## DOT RUN AFTER EDITING MY STREAM!!!\n",
    "\n",
    "# Search for a stream by name. \n",
    "selectRiver('Troublesome')"
   ]
  },
  {
   "cell_type": "markdown",
   "metadata": {},
   "source": [
    "### Edit the stream flowline\n",
    "\n",
    "Make the flowline follow the stream as observed from the aerial photography used in our first lab. The tighter the fit, the better the results.\n",
    "\n",
    "![Stream flowline not aligned](https://nyc3.digitaloceanspaces.com/astoria/geo509/lab-03/images/1.jpg)   \n",
    "*Stream flowline not aligned*\n",
    "\n",
    "![Edit stream flowline](https://nyc3.digitaloceanspaces.com/astoria/geo509/lab-03/images/2.jpg)   \n",
    "*Edit stream flowline*\n",
    "\n",
    "![Edit and save stream layer](https://nyc3.digitaloceanspaces.com/astoria/geo509/lab-03/images/3.jpg)   \n",
    "*Edit and save stream layer*\n",
    "\n",
    "\n",
    "![Select contiguous stream segment](https://nyc3.digitaloceanspaces.com/astoria/geo509/lab-03/images/4.jpg)   \n",
    "*Select contiguous stream segment*"
   ]
  },
  {
   "cell_type": "code",
   "execution_count": 5,
   "metadata": {},
   "outputs": [
    {
     "name": "stdout",
     "output_type": "stream",
     "text": [
      "Do you have a selection to process? Yes or No Yes\n",
      "AOI will be 900 feet from flowline. Placing points every 40 feet along flowline...\n",
      "Finished processing 2022-10-19 13:56:59.780623\n"
     ]
    }
   ],
   "source": [
    "######### MODIFY THIS CELL: What parameters do you want to use to analyze your stream? ######### \n",
    "\n",
    "# Process stream to generate points and create buffer polygon\n",
    "# 1st parameter: distance in feet between river sample points\n",
    "# 2nd paramter: buffer distance from flowline in feet\n",
    "\n",
    "# NOTE: Before you run this, make a contiguous selection using the Select Tool to test the results.\n",
    "processRiver(40, 900)"
   ]
  },
  {
   "cell_type": "markdown",
   "metadata": {},
   "source": [
    "![Points used to sample river elevation](https://nyc3.digitaloceanspaces.com/astoria/geo509/lab-03/images/4.1.jpg)   \n",
    "*Points used to sample river elevation*"
   ]
  },
  {
   "cell_type": "markdown",
   "metadata": {},
   "source": [
    "### Relative elevation model\n",
    "\n",
    "This step creates the surface that interpolates our selected stream's elevation change as it flows down its watershed. This surface will allow us to find adjacent area's elevation relative to the stream's elevation.\n",
    "\n",
    "\n",
    "![Example output classified](https://nyc3.digitaloceanspaces.com/astoria/geo509/lab-03/images/5.jpg)   \n",
    "*Example output symbolized in classes*\n",
    "\n",
    "![Example output classified](https://nyc3.digitaloceanspaces.com/astoria/geo509/lab-03/images/6.jpg)   \n",
    "*Example output symbolized as gradient*\n"
   ]
  },
  {
   "cell_type": "code",
   "execution_count": 6,
   "metadata": {},
   "outputs": [
    {
     "name": "stdout",
     "output_type": "stream",
     "text": [
      "Clipping DEM to AOI...\n",
      "Sampling ground elevation along flowline...\n",
      "Interpolating stream height...\n",
      "Calculating REM on ground surface...\n",
      "Calculating REM on above ground surface...\n",
      "Finished processing 2022-10-19 14:16:00.376123\n"
     ]
    }
   ],
   "source": [
    "######### MODIFY THIS CELL: Use the buffer distance applied in the above function. ######### \n",
    "\n",
    "# Create REM\n",
    "# Single parameter: buffer distance from line in feet. In most cases should match the buffer distance used above.\n",
    "processREM(900)"
   ]
  },
  {
   "cell_type": "markdown",
   "metadata": {},
   "source": [
    "### Inundation model\n",
    "\n",
    "If flood waters reach a certain height above the stream, what areas would be inundated?\n",
    "\n",
    "\n",
    "![Example output classified](https://nyc3.digitaloceanspaces.com/astoria/geo509/lab-03/images/7.jpg)   \n",
    "*inundation over bare earth*\n",
    "\n",
    "![Example output classified](https://nyc3.digitaloceanspaces.com/astoria/geo509/lab-03/images/8.jpg)   \n",
    "*inundation over bare earth with DSM*\n",
    "\n",
    "![Example output classified](https://nyc3.digitaloceanspaces.com/astoria/geo509/lab-03/images/9.jpg)   \n",
    "*Inundation over abover ground features with DSM*\n",
    "\n"
   ]
  },
  {
   "cell_type": "code",
   "execution_count": 7,
   "metadata": {},
   "outputs": [
    {
     "name": "stdout",
     "output_type": "stream",
     "text": [
      "Calculating extent of innudation to 25 feet above stream level for ground...\n",
      "Calculating extent of innudation to 25 feet above stream level for above ground features...\n",
      "Finished processing 2022-10-19 14:22:12.098122\n"
     ]
    }
   ],
   "source": [
    "######### MODIFY THIS CELL: What height above the stream do want for inundation? ######### \n",
    "\n",
    "# Create inundation model\n",
    "# Single parameter: height above stream in feet\n",
    "processInundation(25)  "
   ]
  },
  {
   "cell_type": "code",
   "execution_count": 31,
   "metadata": {},
   "outputs": [
    {
     "name": "stdout",
     "output_type": "stream",
     "text": [
      "Clipping aerial imagery to AOI...\n"
     ]
    },
    {
     "data": {
      "text/html": [
       "<div class='gpresult'><h2>Messages</h2><div id='messages' data-messages='[\"Start Time: Thursday, October 13, 2022 1:46:32 PM\",\"Building Pyramids...\",\"Succeeded at Thursday, October 13, 2022 2:02:59 PM (Elapsed Time: 16 minutes 27 seconds)\"]' data-show='true'><div id = 'default' /></div></div>"
      ],
      "text/plain": [
       "<Result 'C:\\\\BoydsGIS\\\\inundation_\\\\inundation_.gdb\\\\img'>"
      ]
     },
     "execution_count": 31,
     "metadata": {},
     "output_type": "execute_result"
    }
   ],
   "source": [
    "######### DO NOT MODIFY THIS CELL ######### \n",
    "\n",
    "# Create an aerial image for the 2019 6in color imagery to augment visualization\n",
    "print('Clipping aerial imagery to AOI...')\n",
    "arcpy.management.Clip(img, \"#\", 'img', 'river_buffer', '#', True)"
   ]
  },
  {
   "cell_type": "code",
   "execution_count": 28,
   "metadata": {},
   "outputs": [],
   "source": [
    "c = arcpy.sa.ExtractByMask(arcpy.sa.Raster(dsm), 'river_buffer')\n",
    "s = arcpy.sa.Con(arcpy.sa.IsNull(arcpy.sa.Raster('inun_dsm_25ft')),   c, arcpy.sa.Raster('inun_dsm_25ft') + c)\n",
    "# surface = arcpy.sa.Raster('dsm') + arcpy.sa.Raster('inun_dsm_25ft')"
   ]
  },
  {
   "cell_type": "code",
   "execution_count": 29,
   "metadata": {},
   "outputs": [],
   "source": [
    "s.save('surface2')"
   ]
  },
  {
   "cell_type": "code",
   "execution_count": 30,
   "metadata": {},
   "outputs": [],
   "source": [
    "c = arcpy.sa.ExtractByMask(arcpy.sa.Raster(dem), 'river_buffer')\n",
    "s = arcpy.sa.Con(arcpy.sa.IsNull(arcpy.sa.Raster('inun_dem_25ft')),   c, arcpy.sa.Raster('inun_dem_25ft') + c)\n",
    "# surface = arcpy.sa.Raster('dsm') + arcpy.sa.Raster('inun_dsm_25ft')\n",
    "s.save('surface3')"
   ]
  },
  {
   "cell_type": "markdown",
   "metadata": {},
   "source": [
    "### Using aerial imagery\n",
    "\n",
    "This cell will extract 2019 aerial imagery to help visualize and identify inundated areas.\n",
    "\n",
    "\n",
    "![Example output classified](https://nyc3.digitaloceanspaces.com/astoria/geo509/lab-03/images/10.jpg)   \n",
    "**\n",
    "\n",
    "![Example output classified](https://nyc3.digitaloceanspaces.com/astoria/geo509/lab-03/images/11.jpg)   \n",
    "**\n",
    "\n"
   ]
  },
  {
   "cell_type": "markdown",
   "metadata": {},
   "source": [
    "![](HAR_Elkhorn.jpg)"
   ]
  }
 ],
 "metadata": {
  "kernelspec": {
   "display_name": "ArcGISPro",
   "language": "Python",
   "name": "python3"
  },
  "language_info": {
   "file_extension": ".py",
   "name": "python",
   "version": "3"
  }
 },
 "nbformat": 4,
 "nbformat_minor": 2
}
